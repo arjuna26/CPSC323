{
 "cells": [
  {
   "cell_type": "markdown",
   "metadata": {},
   "source": [
    "### Imports/Setting Up and Cleaning Data\n"
   ]
  },
  {
   "cell_type": "code",
   "execution_count": null,
   "metadata": {
    "vscode": {
     "languageId": "plaintext"
    }
   },
   "outputs": [],
   "source": [
    "# import all necessary packages\n",
    "\n",
    "import numpy as np\n",
    "import pandas as pd\n",
    "import seaborn as sns\n",
    "import matplotlib.pyplot as plt\n",
    "from sklearn import preprocessing, svm\n",
    "from sklearn.model_selection import train_test_split\n",
    "from sklearn.linear_model import LinearRegression\n",
    "from sklearn.metrics import mean_squared_error as rmse"
   ]
  },
  {
   "cell_type": "code",
   "execution_count": null,
   "metadata": {
    "vscode": {
     "languageId": "plaintext"
    }
   },
   "outputs": [],
   "source": [
    "# read data\n",
    "\n",
    "data = pd.read_csv('data.csv')\n",
    "\n",
    "# select 2 attributes from the data\n",
    "\n",
    "data_small = data[['MP', 'PTS']]\n",
    "\n",
    "\n",
    "# display a small amount of the data using .head() function\n",
    "data_small.head()"
   ]
  },
  {
   "cell_type": "code",
   "execution_count": null,
   "metadata": {
    "vscode": {
     "languageId": "plaintext"
    }
   },
   "outputs": [],
   "source": [
    "# plot the data in a simple scatter plot to visulize\n",
    "\n",
    "sns.lmplot(x=\"MP\", y=\"PTS\", data = data_small, order = 3, ci=None)"
   ]
  },
  {
   "cell_type": "code",
   "execution_count": null,
   "metadata": {
    "vscode": {
     "languageId": "plaintext"
    }
   },
   "outputs": [],
   "source": [
    "# Clean the data by removing N/A and missing input numbers\n",
    "\n",
    "data_small.fillna(method = 'ffill', inplace = True)"
   ]
  },
  {
   "cell_type": "markdown",
   "metadata": {},
   "source": [
    "### Training/Visualizing the Model"
   ]
  },
  {
   "cell_type": "code",
   "execution_count": null,
   "metadata": {
    "vscode": {
     "languageId": "plaintext"
    }
   },
   "outputs": [],
   "source": [
    "# Convert each dataframe into a numpy array\n",
    "\n",
    "X = np.array(data_small['MP']).reshape(-1, 1) # np array containing \"MP\" attribute\n",
    "y = np.array(data_small['PTS']).reshape(-1, 1) # np array containing \"PTS\" attribute\n",
    "\n",
    "# Split the data into training and test data, test data will be  of all data\n",
    "\n",
    "X_train, X_test, y_train, y_test = train_test_split(X, y, test_size=0.2)"
   ]
  },
  {
   "cell_type": "code",
   "execution_count": null,
   "metadata": {
    "vscode": {
     "languageId": "plaintext"
    }
   },
   "outputs": [],
   "source": [
    "# Fit model and calculate Linear Regression score\n",
    "\n",
    "regression = LinearRegression()\n",
    "regression.fit(X_train, y_train)\n",
    "\n",
    "print(regression.score(X_test, y_test))"
   ]
  },
  {
   "cell_type": "code",
   "execution_count": null,
   "metadata": {
    "vscode": {
     "languageId": "plaintext"
    }
   },
   "outputs": [],
   "source": [
    "# Initialize a variable as the predicted values\n",
    "y_pred = regression.predict(X_test)\n",
    "\n",
    "# Scatter plot of the results\n",
    "plt.scatter(X_test, y_test, color = 'red')\n",
    "\n",
    "# Predicted line of best fit\n",
    "plt.plot(X_test, y_pred, color='blue')"
   ]
  },
  {
   "cell_type": "code",
   "execution_count": null,
   "metadata": {
    "vscode": {
     "languageId": "plaintext"
    }
   },
   "outputs": [],
   "source": [
    "# Calculate the RMSE\n",
    "\n",
    "# y = data_small['PTS']\n",
    "\n",
    "print(rmse(X_test, y_pred, squared=False))"
   ]
  }
 ],
 "metadata": {
  "language_info": {
   "name": "python"
  }
 },
 "nbformat": 4,
 "nbformat_minor": 2
}
